{
 "cells": [
  {
   "cell_type": "code",
   "id": "initial_id",
   "metadata": {
    "collapsed": true,
    "ExecuteTime": {
     "end_time": "2025-09-29T22:55:25.852615Z",
     "start_time": "2025-09-29T22:55:21.108799Z"
    }
   },
   "source": [
    "#Cau9\n",
    "x = int(input())\n",
    "if x / 3600 <1:\n",
    "    if x %60==0:\n",
    "        sophut = x /60\n",
    "        print(sophut,\"phút\")\n",
    "    elif x < 60:\n",
    "        sogiay = x\n",
    "        print(sogiay,\"giây\")\n",
    "    else:\n",
    "        sophut = x//60\n",
    "        sogiay = x - sophut*60\n",
    "        print(sophut,\"phút\",sogiay,\"giây\")\n",
    "\n",
    "else:\n",
    "    if x %3600==0:\n",
    "        soh = x /3600\n",
    "        print(soh, \"giờ\")\n",
    "    if x%3600 != 0:\n",
    "        soh = x//3600\n",
    "        giayconlai = x - soh*3600\n",
    "        if giayconlai %60 == 0:\n",
    "            sophut = giayconlai / 60\n",
    "            print(soh,\"giờ\",sophut,\"phút\")\n",
    "        elif giayconlai < 60:\n",
    "            sogiay = giayconlai\n",
    "            print(soh,\"giờ\",sogiay,\"giây\")\n",
    "        else:\n",
    "            sophut = giayconlai //60\n",
    "            sogiay = giayconlai - sophut*60\n",
    "            print(soh,\"giờ\",sophut,\"phút\",sogiay,\"giây\")\n",
    "\n",
    "\n"
   ],
   "outputs": [
    {
     "name": "stdout",
     "output_type": "stream",
     "text": [
      "1 giờ 1 phút 47 giây\n"
     ]
    }
   ],
   "execution_count": 17
  },
  {
   "metadata": {},
   "cell_type": "code",
   "outputs": [],
   "execution_count": null,
   "source": "",
   "id": "cc5fdefe1fe0de94"
  }
 ],
 "metadata": {
  "kernelspec": {
   "display_name": "Python 3",
   "language": "python",
   "name": "python3"
  },
  "language_info": {
   "codemirror_mode": {
    "name": "ipython",
    "version": 2
   },
   "file_extension": ".py",
   "mimetype": "text/x-python",
   "name": "python",
   "nbconvert_exporter": "python",
   "pygments_lexer": "ipython2",
   "version": "2.7.6"
  }
 },
 "nbformat": 4,
 "nbformat_minor": 5
}
