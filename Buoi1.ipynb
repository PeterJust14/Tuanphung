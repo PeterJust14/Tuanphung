{
 "cells": [
  {
   "cell_type": "code",
   "id": "7d55592b-b9c2-47e8-91f0-0551df5a5d71",
   "metadata": {
    "ExecuteTime": {
     "end_time": "2025-09-24T18:03:49.018599Z",
     "start_time": "2025-09-24T18:03:46.375592Z"
    }
   },
   "source": [
    "\n",
    "#Bai1\n",
    "n = int(input())\n",
    "print(n*2)\n"
   ],
   "outputs": [
    {
     "name": "stdout",
     "output_type": "stream",
     "text": [
      "4\n"
     ]
    }
   ],
   "execution_count": 36
  },
  {
   "cell_type": "code",
   "id": "c5052bb7-d1f9-45e4-9b5d-33583fe4f724",
   "metadata": {
    "ExecuteTime": {
     "end_time": "2025-09-24T16:43:16.871198Z",
     "start_time": "2025-09-24T16:43:07.057086Z"
    }
   },
   "source": [
    "#Bai2\n",
    "a,b = map(float, input(\"Chieu rong, chieu dai:\").split(\",\"))\n",
    "dientichtong = a*b\n",
    "pi = 3.14\n",
    "dientichtron = (a/2)**2 * pi\n",
    "dientichconlai1 = dientichtong - dientichtron\n",
    "dientichconlai2 = round(dientichconlai1, 2)\n",
    "print(dientichconlai2)"
   ],
   "outputs": [
    {
     "name": "stdout",
     "output_type": "stream",
     "text": [
      "9.98\n"
     ]
    }
   ],
   "execution_count": 3
  },
  {
   "cell_type": "code",
   "id": "83199f86-443b-45b7-860b-439a5579d5e4",
   "metadata": {
    "ExecuteTime": {
     "end_time": "2025-09-24T16:46:20.346487Z",
     "start_time": "2025-09-24T16:46:18.367733Z"
    }
   },
   "source": [
    "#Bai3\n",
    "c = input()\n",
    "if c == c.upper():\n",
    "    print(c.lower())\n",
    "else:\n",
    "    print(c.upper())"
   ],
   "outputs": [
    {
     "name": "stdout",
     "output_type": "stream",
     "text": [
      "a\n"
     ]
    }
   ],
   "execution_count": 5
  },
  {
   "cell_type": "code",
   "id": "ce51faf4-bebb-48eb-b9d0-2bdb8dd292a4",
   "metadata": {
    "ExecuteTime": {
     "end_time": "2025-09-24T16:50:14.839336Z",
     "start_time": "2025-09-24T16:50:11.489936Z"
    }
   },
   "source": [
    "#Bai4\n",
    "c = input()\n",
    "if c.isalpha():\n",
    "    print(c + \" là kí tự alphabet\")\n",
    "else:\n",
    "    print(c + \" không la kí tự alphabet\")"
   ],
   "outputs": [
    {
     "name": "stdout",
     "output_type": "stream",
     "text": [
      "2 không la kí tự alphabet\n"
     ]
    }
   ],
   "execution_count": 10
  },
  {
   "cell_type": "code",
   "id": "110b63ba-d805-466a-b377-5fa6f277ed10",
   "metadata": {
    "ExecuteTime": {
     "end_time": "2025-09-24T16:54:49.325181Z",
     "start_time": "2025-09-24T16:54:46.977142Z"
    }
   },
   "source": [
    "#Bai5\n",
    "a = input()\n",
    "if a == \"A\":\n",
    "    print(\"đây là TH đặc biệt, không có chữ cái đứng trước\")\n",
    "elif \"B\" <= a <= \"Z\":\n",
    "    a = a.lower()\n",
    "    print(chr(ord(a)-1))"
   ],
   "outputs": [
    {
     "name": "stdout",
     "output_type": "stream",
     "text": [
      "y\n"
     ]
    }
   ],
   "execution_count": 14
  },
  {
   "cell_type": "code",
   "id": "65bb718e-fa3c-401a-8e8c-043935c03865",
   "metadata": {
    "ExecuteTime": {
     "end_time": "2025-09-24T17:10:30.221696Z",
     "start_time": "2025-09-24T17:10:24.145779Z"
    }
   },
   "source": [
    "#Bai6\n",
    "import math\n",
    "a,b,c = map(float, input(\"Nhập vào a,b,c:\").split(\",\"))\n",
    "if a > 0 and b>0 and c>0 and (a+b > c) and (a+c > b) and (b+c > a):\n",
    "    p = (a+b+c)/2\n",
    "    dientich = math.sqrt(p*(p-a)*(p-b)*(p-c))\n",
    "    print(round(dientich,1))\n",
    "else:\n",
    "    print(\"ba  cạnh không tạo nên 1 tam giác\")\n",
    "\n",
    "\n",
    "\n"
   ],
   "outputs": [
    {
     "name": "stdout",
     "output_type": "stream",
     "text": [
      "7.6\n"
     ]
    }
   ],
   "execution_count": 17
  },
  {
   "cell_type": "code",
   "id": "e47aa40a-51d9-4708-b239-88af08fb118f",
   "metadata": {
    "ExecuteTime": {
     "end_time": "2025-09-24T17:16:05.012779Z",
     "start_time": "2025-09-24T17:15:57.008504Z"
    }
   },
   "source": [
    "#Bai7\n",
    "s = input()\n",
    "if len(s) >= 20 and s.isalpha() and s.islower():\n",
    "    print(s[4])\n",
    "    print(s[8])\n",
    "else:\n",
    "    print(\"Chuỗi kí tự không hop lệ\")"
   ],
   "outputs": [
    {
     "name": "stdout",
     "output_type": "stream",
     "text": [
      "Chuỗi kí tự không hop lệ\n"
     ]
    }
   ],
   "execution_count": 20
  },
  {
   "cell_type": "code",
   "id": "8d8ba157-a31e-45dd-9905-6f289b8b7283",
   "metadata": {
    "ExecuteTime": {
     "end_time": "2025-09-24T18:01:54.247486Z",
     "start_time": "2025-09-24T18:01:46.495947Z"
    }
   },
   "source": [
    "#Bai8\n",
    "ten = input(\"Tên chủ hộ:\")\n",
    "a = int(input(\"Chỉ số điện kế tháng trước:\"))\n",
    "b = int(input(\"Chỉ số điện kế tháng này:\"))\n",
    "sodien = b -a\n",
    "A = [50,50,100,100,100,float('inf')]\n",
    "B = [1984,2050,2380,2998,3350,3460]\n",
    "tongtien = 0\n",
    "sodienconlai = sodien\n",
    "for i in range(len(B)):\n",
    "    if sodienconlai <=0:\n",
    "        break\n",
    "    sokwh = min(sodienconlai, A[i])\n",
    "    tongtien += sokwh*B[i]\n",
    "    sodienconlai -= sokwh\n",
    "thue_VAT = tongtien * 8/100\n",
    "tongtiencuoi = round(tongtien + thue_VAT)\n",
    "print(\"Ho va ten: \"+ ten)\n",
    "print(\"Tien phai tra la:\",tongtiencuoi)\n",
    "\n"
   ],
   "outputs": [
    {
     "name": "stdout",
     "output_type": "stream",
     "text": [
      "Ho va ten: hh\n",
      "Tien phai tra la: 1855505\n"
     ]
    }
   ],
   "execution_count": 34
  },
  {
   "cell_type": "code",
   "id": "22c39ef8-dc81-4691-8eb0-045f3b193a20",
   "metadata": {
    "ExecuteTime": {
     "end_time": "2025-09-24T18:05:55.509020Z",
     "start_time": "2025-09-24T18:05:53.914259Z"
    }
   },
   "source": [
    "#Cau9\n",
    "a = int(input())\n",
    "if a % 2 ==0:\n",
    "    print(a,\"là số chẵn\")\n",
    "else:\n",
    "    print(a,\"là số lẻ\")"
   ],
   "outputs": [
    {
     "name": "stdout",
     "output_type": "stream",
     "text": [
      "3 là số lẻ\n"
     ]
    }
   ],
   "execution_count": 38
  },
  {
   "cell_type": "code",
   "id": "779277e6-efd6-4313-add6-0b36c37aeb43",
   "metadata": {
    "ExecuteTime": {
     "end_time": "2025-09-24T18:08:04.655588Z",
     "start_time": "2025-09-24T18:08:01.299316Z"
    }
   },
   "source": [
    "#Cau10\n",
    "a = int(input())\n",
    "if a %10 == 5:\n",
    "    print(\"true\")\n",
    "else:\n",
    "    print(\"false\")\n"
   ],
   "outputs": [
    {
     "name": "stdout",
     "output_type": "stream",
     "text": [
      "false\n"
     ]
    }
   ],
   "execution_count": 40
  },
  {
   "metadata": {
    "ExecuteTime": {
     "end_time": "2025-09-24T18:09:07.550098Z",
     "start_time": "2025-09-24T18:09:02.537062Z"
    }
   },
   "cell_type": "code",
   "source": [
    "#Cau11\n",
    "a = int(input())\n",
    "if a %3==0 and a%5==0:\n",
    "    print(\"true\")\n",
    "else:\n",
    "    print(\"false\")"
   ],
   "id": "c9a95a826272a9ac",
   "outputs": [
    {
     "name": "stdout",
     "output_type": "stream",
     "text": [
      "false\n"
     ]
    }
   ],
   "execution_count": 42
  },
  {
   "metadata": {
    "ExecuteTime": {
     "end_time": "2025-09-24T18:10:17.135697Z",
     "start_time": "2025-09-24T18:10:14.349079Z"
    }
   },
   "cell_type": "code",
   "source": [
    "#Cau12\n",
    "a = int(input())\n",
    "if 2025-a >=18:\n",
    "    print(\"đủ tuổi\")\n",
    "else:\n",
    "    print(\"không đủ tuoi\")"
   ],
   "id": "21837bc3620a4581",
   "outputs": [
    {
     "name": "stdout",
     "output_type": "stream",
     "text": [
      "không đủ tuoi\n"
     ]
    }
   ],
   "execution_count": 44
  },
  {
   "metadata": {
    "ExecuteTime": {
     "end_time": "2025-09-24T18:18:58.083993Z",
     "start_time": "2025-09-24T18:18:53.689860Z"
    }
   },
   "cell_type": "code",
   "source": [
    "#Cau13\n",
    "a,b = map(float, input().split())\n",
    "if a == b:\n",
    "    print(\"Hai so bằng nhau\")\n",
    "else:\n",
    "    c=max(a,b)\n",
    "    if c.is_integer():\n",
    "        print(int(c))\n",
    "    else:\n",
    "        print(c)"
   ],
   "id": "b0ca25bbe8d132a0",
   "outputs": [
    {
     "name": "stdout",
     "output_type": "stream",
     "text": [
      "5\n"
     ]
    }
   ],
   "execution_count": 50
  },
  {
   "metadata": {
    "ExecuteTime": {
     "end_time": "2025-09-24T18:20:37.840345Z",
     "start_time": "2025-09-24T18:20:36.141768Z"
    }
   },
   "cell_type": "code",
   "source": [
    "#Cau14\n",
    "a = input()\n",
    "if a.isalpha():\n",
    "    print(a,\"là chu cái\")\n",
    "if a.isdigit():\n",
    "    print(a,\"là chữ số\")"
   ],
   "id": "12ef8a3a7f86119c",
   "outputs": [
    {
     "name": "stdout",
     "output_type": "stream",
     "text": [
      "A là kí tự\n"
     ]
    }
   ],
   "execution_count": 53
  },
  {
   "metadata": {
    "ExecuteTime": {
     "end_time": "2025-09-24T18:23:18.773417Z",
     "start_time": "2025-09-24T18:23:12.088410Z"
    }
   },
   "cell_type": "code",
   "source": [
    "#Cau15\n",
    "a = float(input())\n",
    "if a >=8:\n",
    "    print(\"Giỏi\")\n",
    "if 6.5<=a<8:\n",
    "    print(\"Khá\")\n",
    "if 5<=a<6.5:\n",
    "    print(\"Trung bình\")\n",
    "if a < 5:\n",
    "    print(\"yếu\")"
   ],
   "id": "667e861e22e46d81",
   "outputs": [
    {
     "name": "stdout",
     "output_type": "stream",
     "text": [
      "Trung bình\n"
     ]
    }
   ],
   "execution_count": 54
  },
  {
   "metadata": {
    "ExecuteTime": {
     "end_time": "2025-09-24T18:25:11.979857Z",
     "start_time": "2025-09-24T18:25:08.337414Z"
    }
   },
   "cell_type": "code",
   "source": [
    "#Cau16\n",
    "a = int(input())\n",
    "if a %400==0 or a %4 ==0 and a %100 != 0:\n",
    "    print(\"Năm nhuận\")\n",
    "else:\n",
    "    print(\"Không nhuận\")"
   ],
   "id": "9447e957e6b81ada",
   "outputs": [
    {
     "name": "stdout",
     "output_type": "stream",
     "text": [
      "Năm nhuận\n"
     ]
    }
   ],
   "execution_count": 56
  },
  {
   "metadata": {},
   "cell_type": "code",
   "outputs": [],
   "execution_count": null,
   "source": "#Cau17\n",
   "id": "a985c59db21bbdca"
  }
 ],
 "metadata": {
  "kernelspec": {
   "display_name": "Python 3 (ipykernel)",
   "language": "python",
   "name": "python3"
  },
  "language_info": {
   "codemirror_mode": {
    "name": "ipython",
    "version": 3
   },
   "file_extension": ".py",
   "mimetype": "text/x-python",
   "name": "python",
   "nbconvert_exporter": "python",
   "pygments_lexer": "ipython3",
   "version": "3.13.5"
  }
 },
 "nbformat": 4,
 "nbformat_minor": 5
}
