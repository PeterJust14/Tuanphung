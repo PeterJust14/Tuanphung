{
 "cells": [
  {
   "cell_type": "code",
   "execution_count": 1,
   "id": "7d55592b-b9c2-47e8-91f0-0551df5a5d71",
   "metadata": {},
   "outputs": [
    {
     "name": "stdout",
     "output_type": "stream",
     "text": [
      "Hello world\n"
     ]
    }
   ],
   "source": [
    "print(\"Hello world\")"
   ]
  },
  {
   "cell_type": "code",
   "execution_count": 2,
   "id": "c5052bb7-d1f9-45e4-9b5d-33583fe4f724",
   "metadata": {},
   "outputs": [
    {
     "name": "stdin",
     "output_type": "stream",
     "text": [
      " tuaans\n"
     ]
    },
    {
     "name": "stdout",
     "output_type": "stream",
     "text": [
      "Hellotuaans\n"
     ]
    }
   ],
   "source": [
    "a = input()\n",
    "print(\"Hello\" + a)"
   ]
  },
  {
   "cell_type": "code",
   "execution_count": null,
   "id": "83199f86-443b-45b7-860b-439a5579d5e4",
   "metadata": {},
   "outputs": [],
   "source": [
    "a = int(input())\n",
    "b = int(input())\n",
    "print(a+b)\n",
    "print(a-b)\n",
    "print(a*b)\n",
    "print(a//b)\n",
    "print(a%b)"
   ]
  },
  {
   "cell_type": "code",
   "execution_count": 1,
   "id": "ce51faf4-bebb-48eb-b9d0-2bdb8dd292a4",
   "metadata": {},
   "outputs": [
    {
     "name": "stdin",
     "output_type": "stream",
     "text": [
      " 1,2,3,4,5,6\n"
     ]
    },
    {
     "name": "stdout",
     "output_type": "stream",
     "text": [
      "4.2\n"
     ]
    }
   ],
   "source": [
    "a, b, c, d, e, f = map(int, input().split(\",\"))\n",
    "d *= 2\n",
    "e *= 2\n",
    "f *= 3\n",
    "diem = (a + b + c + d + e + f)/10\n",
    "print(diem)"
   ]
  },
  {
   "cell_type": "code",
   "execution_count": null,
   "id": "110b63ba-d805-466a-b377-5fa6f277ed10",
   "metadata": {},
   "outputs": [],
   "source": [
    "a , b = map(int, input().split())\n",
    "print(a**b)"
   ]
  },
  {
   "cell_type": "code",
   "execution_count": null,
   "id": "65bb718e-fa3c-401a-8e8c-043935c03865",
   "metadata": {},
   "outputs": [],
   "source": [
    "a = str(input())\n",
    "print(ord(a))\n",
    "a = a.upper()\n",
    "print(a)"
   ]
  },
  {
   "cell_type": "code",
   "execution_count": null,
   "id": "e47aa40a-51d9-4708-b239-88af08fb118f",
   "metadata": {},
   "outputs": [],
   "source": [
    "print((13**2)*3+5)\n",
    "print(13**2*3 +5)"
   ]
  },
  {
   "cell_type": "code",
   "execution_count": null,
   "id": "8d8ba157-a31e-45dd-9905-6f289b8b7283",
   "metadata": {},
   "outputs": [],
   "source": [
    "x = float(input())\n",
    "tong_tien = x * (2+0.3+0.1)\n",
    "print(tong_tien)"
   ]
  },
  {
   "cell_type": "code",
   "execution_count": null,
   "id": "22c39ef8-dc81-4691-8eb0-045f3b193a20",
   "metadata": {},
   "outputs": [],
   "source": "print(\"hello world\")"
  },
  {
   "cell_type": "code",
   "execution_count": null,
   "id": "779277e6-efd6-4313-add6-0b36c37aeb43",
   "metadata": {},
   "outputs": [],
   "source": "print (\"Helloooooooo\")"
  }
 ],
 "metadata": {
  "kernelspec": {
   "display_name": "Python 3 (ipykernel)",
   "language": "python",
   "name": "python3"
  },
  "language_info": {
   "codemirror_mode": {
    "name": "ipython",
    "version": 3
   },
   "file_extension": ".py",
   "mimetype": "text/x-python",
   "name": "python",
   "nbconvert_exporter": "python",
   "pygments_lexer": "ipython3",
   "version": "3.13.5"
  }
 },
 "nbformat": 4,
 "nbformat_minor": 5
}
